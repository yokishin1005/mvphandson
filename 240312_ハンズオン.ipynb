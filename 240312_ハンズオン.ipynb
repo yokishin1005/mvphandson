{
  "cells": [
    {
      "cell_type": "markdown",
      "metadata": {
        "id": "BymhbEkaswDH"
      },
      "source": [
        "# 議事録アプリ実装体験\n",
        "\n",
        "## 免責事項\n",
        "> これは㈱Tech0によって提供される企業向けプログラムのWS用ファイルであり、その目的に特化して作成されています。当社では、このファイルを使用した際に発生する可能性のあるいかなる不具合についても責任を負いかねます。<br>ファイルの品質と機能性を確保するために万全を尽くしておりますが、万一の不具合発生時にはご理解いただけますようお願い申し上げます。\n",
        "\n",
        "## 操作方法\n",
        "\n",
        "下記に用意されているコードに対して、<br>\n",
        "> windows: コードブロックを選択した状態でCtrl + Enter<br>\n",
        ">Mac: コードブロックを選択した状態でCommand + Enter\n",
        "\n",
        "もしくは▶マークを選択して、コードを起動してください。\n",
        "\n",
        "## 確認\n",
        "\n",
        "コードブロック横が✔になれば動作は完了しています。<br>\n",
        "Warningが表示されていたとしても、先に続くコードが活用できていれば基本問題はございません。"
      ]
    },
    {
      "cell_type": "markdown",
      "metadata": {
        "id": "amIR69oxs9qZ"
      },
      "source": []
    },
    {
      "cell_type": "code",
      "execution_count": null,
      "metadata": {
        "id": "gLMZjvIos-iv"
      },
      "outputs": [],
      "source": [
        "##################### シャープはコメントアウトと呼び、コード部分ではない解説やメモを記載できます #######################"
      ]
    },
    {
      "cell_type": "markdown",
      "metadata": {
        "id": "8e8NE5eQ4PRP"
      },
      "source": [
        "# 議事録アプリを作ろう！\n",
        "議事録を作るには、\n",
        "①動画や音声データから文字を書き起こし\n",
        "②書き起こしデータから、LLMを使って要約\n",
        "\n",
        "## ○目標\n",
        "*   書き起こし等の様々なライブラリを使ってみる\n",
        "*   LLMを使ったアプリケーション構築の一連の流れを学ぶ（初級者）\n",
        "\n",
        "## ○学び取っていただきたいこと：\n",
        "*   Pythonを使って、簡単にGPTを使用したアプリケーションを作成できること\n",
        "*   Speech to TextサービスWhisperの使い方\n",
        "*   OpenAIの使い方\n",
        "*   プロンプトエンジニアリングの具体イメージ\n",
        "\n",
        "\n",
        "\n",
        "\n"
      ]
    },
    {
      "cell_type": "markdown",
      "metadata": {
        "id": "MAwKWiNgasaW"
      },
      "source": [
        "# 書き起こしをやってみよう"
      ]
    },
    {
      "cell_type": "markdown",
      "metadata": {
        "id": "hO6kpbN9axTJ"
      },
      "source": [
        "## 目的\n",
        "動画から音声データを抽出し、文字起こしする中で下記の知識を身につける。\n",
        "\n",
        "*   ライブラリの使用方法\n",
        "*   書き起こしライブラリのWhisperと話者分離のライプラリpyannoteの使用方法を学ぶ\n",
        "\n",
        "\n",
        "【参考】\n",
        "\n",
        "Whisperとは？\n",
        "https://platform.openai.com/docs/guides/speech-to-text\n",
        "https://github.com/openai/whisper\n",
        "\n",
        "Whisperで使えるモデルを学ぼう\n",
        "https://qiita.com/diesekiefer/items/00d8c1507829b58a62ab\n",
        "\n",
        "\n",
        "Whisperを使って動画ファイルをテキスト化しよう\n",
        "https://platform.openai.com/docs/guides/speech-to-text/quickstart\n"
      ]
    },
    {
      "cell_type": "markdown",
      "metadata": {
        "id": "YR8iOFg4qLJc"
      },
      "source": [
        "## 動画ファイルから音声を抽出変換"
      ]
    },
    {
      "cell_type": "code",
      "execution_count": 1,
      "metadata": {
        "colab": {
          "base_uri": "https://localhost:8080/"
        },
        "id": "ORdg0h8wqEzw",
        "outputId": "e0159c38-8364-4c49-f556-398a11b23654"
      },
      "outputs": [
        {
          "name": "stdout",
          "output_type": "stream",
          "text": [
            "Requirement already satisfied: moviepy in /usr/local/lib/python3.10/dist-packages (1.0.3)\n",
            "Requirement already satisfied: decorator<5.0,>=4.0.2 in /usr/local/lib/python3.10/dist-packages (from moviepy) (4.4.2)\n",
            "Requirement already satisfied: tqdm<5.0,>=4.11.2 in /usr/local/lib/python3.10/dist-packages (from moviepy) (4.66.2)\n",
            "Requirement already satisfied: requests<3.0,>=2.8.1 in /usr/local/lib/python3.10/dist-packages (from moviepy) (2.31.0)\n",
            "Requirement already satisfied: proglog<=1.0.0 in /usr/local/lib/python3.10/dist-packages (from moviepy) (0.1.10)\n",
            "Requirement already satisfied: numpy>=1.17.3 in /usr/local/lib/python3.10/dist-packages (from moviepy) (1.25.2)\n",
            "Requirement already satisfied: imageio<3.0,>=2.5 in /usr/local/lib/python3.10/dist-packages (from moviepy) (2.31.6)\n",
            "Requirement already satisfied: imageio-ffmpeg>=0.2.0 in /usr/local/lib/python3.10/dist-packages (from moviepy) (0.4.9)\n",
            "Requirement already satisfied: pillow<10.1.0,>=8.3.2 in /usr/local/lib/python3.10/dist-packages (from imageio<3.0,>=2.5->moviepy) (9.4.0)\n",
            "Requirement already satisfied: setuptools in /usr/local/lib/python3.10/dist-packages (from imageio-ffmpeg>=0.2.0->moviepy) (67.7.2)\n",
            "Requirement already satisfied: charset-normalizer<4,>=2 in /usr/local/lib/python3.10/dist-packages (from requests<3.0,>=2.8.1->moviepy) (3.3.2)\n",
            "Requirement already satisfied: idna<4,>=2.5 in /usr/local/lib/python3.10/dist-packages (from requests<3.0,>=2.8.1->moviepy) (3.6)\n",
            "Requirement already satisfied: urllib3<3,>=1.21.1 in /usr/local/lib/python3.10/dist-packages (from requests<3.0,>=2.8.1->moviepy) (2.0.7)\n",
            "Requirement already satisfied: certifi>=2017.4.17 in /usr/local/lib/python3.10/dist-packages (from requests<3.0,>=2.8.1->moviepy) (2024.2.2)\n"
          ]
        }
      ],
      "source": [
        "#動画から音声データを抽出するのに必要なライブラリのインストール\n",
        "!pip install moviepy"
      ]
    },
    {
      "cell_type": "code",
      "execution_count": null,
      "metadata": {
        "id": "szeNEsyDqJqi"
      },
      "outputs": [],
      "source": [
        "#ライブラリの実装\n",
        "from moviepy.editor import AudioFileClip"
      ]
    },
    {
      "cell_type": "code",
      "execution_count": null,
      "metadata": {
        "id": "6EXDJ_G-skGx"
      },
      "outputs": [],
      "source": [
        "# ドキュメントについて\n",
        "# https://zulko.github.io/moviepy/getting_started/quick_presentation.html"
      ]
    },
    {
      "cell_type": "code",
      "execution_count": null,
      "metadata": {
        "colab": {
          "base_uri": "https://localhost:8080/",
          "height": 333
        },
        "id": "PM6J0ZqluvS8",
        "outputId": "8b43200f-cab6-445e-b892-5e36c2790203"
      },
      "outputs": [
        {
          "ename": "OSError",
          "evalue": "MoviePy error: the file video.mp4 could not be found!\nPlease check that you entered the correct path.",
          "output_type": "error",
          "traceback": [
            "\u001b[0;31m---------------------------------------------------------------------------\u001b[0m",
            "\u001b[0;31mOSError\u001b[0m                                   Traceback (most recent call last)",
            "\u001b[0;32m<ipython-input-4-215880118f9c>\u001b[0m in \u001b[0;36m<cell line: 2>\u001b[0;34m()\u001b[0m\n\u001b[1;32m      1\u001b[0m \u001b[0;31m# まずはやってみましょう！\u001b[0m\u001b[0;34m\u001b[0m\u001b[0;34m\u001b[0m\u001b[0m\n\u001b[0;32m----> 2\u001b[0;31m \u001b[0maudiofile\u001b[0m \u001b[0;34m=\u001b[0m \u001b[0mAudioFileClip\u001b[0m\u001b[0;34m(\u001b[0m\u001b[0;34m\"video.mp4\"\u001b[0m\u001b[0;34m)\u001b[0m\u001b[0;34m\u001b[0m\u001b[0;34m\u001b[0m\u001b[0m\n\u001b[0m",
            "\u001b[0;32m/usr/local/lib/python3.10/dist-packages/moviepy/audio/io/AudioFileClip.py\u001b[0m in \u001b[0;36m__init__\u001b[0;34m(self, filename, buffersize, nbytes, fps)\u001b[0m\n\u001b[1;32m     68\u001b[0m \u001b[0;34m\u001b[0m\u001b[0m\n\u001b[1;32m     69\u001b[0m         \u001b[0mself\u001b[0m\u001b[0;34m.\u001b[0m\u001b[0mfilename\u001b[0m \u001b[0;34m=\u001b[0m \u001b[0mfilename\u001b[0m\u001b[0;34m\u001b[0m\u001b[0;34m\u001b[0m\u001b[0m\n\u001b[0;32m---> 70\u001b[0;31m         self.reader = FFMPEG_AudioReader(filename, fps=fps, nbytes=nbytes,\n\u001b[0m\u001b[1;32m     71\u001b[0m                                          buffersize=buffersize)\n\u001b[1;32m     72\u001b[0m         \u001b[0mself\u001b[0m\u001b[0;34m.\u001b[0m\u001b[0mfps\u001b[0m \u001b[0;34m=\u001b[0m \u001b[0mfps\u001b[0m\u001b[0;34m\u001b[0m\u001b[0;34m\u001b[0m\u001b[0m\n",
            "\u001b[0;32m/usr/local/lib/python3.10/dist-packages/moviepy/audio/io/readers.py\u001b[0m in \u001b[0;36m__init__\u001b[0;34m(self, filename, buffersize, print_infos, fps, nbytes, nchannels)\u001b[0m\n\u001b[1;32m     49\u001b[0m         \u001b[0mself\u001b[0m\u001b[0;34m.\u001b[0m\u001b[0macodec\u001b[0m \u001b[0;34m=\u001b[0m \u001b[0;34m'pcm_s%dle'\u001b[0m\u001b[0;34m%\u001b[0m\u001b[0;34m(\u001b[0m\u001b[0;36m8\u001b[0m\u001b[0;34m*\u001b[0m\u001b[0mnbytes\u001b[0m\u001b[0;34m)\u001b[0m\u001b[0;34m\u001b[0m\u001b[0;34m\u001b[0m\u001b[0m\n\u001b[1;32m     50\u001b[0m         \u001b[0mself\u001b[0m\u001b[0;34m.\u001b[0m\u001b[0mnchannels\u001b[0m \u001b[0;34m=\u001b[0m \u001b[0mnchannels\u001b[0m\u001b[0;34m\u001b[0m\u001b[0;34m\u001b[0m\u001b[0m\n\u001b[0;32m---> 51\u001b[0;31m         \u001b[0minfos\u001b[0m \u001b[0;34m=\u001b[0m \u001b[0mffmpeg_parse_infos\u001b[0m\u001b[0;34m(\u001b[0m\u001b[0mfilename\u001b[0m\u001b[0;34m)\u001b[0m\u001b[0;34m\u001b[0m\u001b[0;34m\u001b[0m\u001b[0m\n\u001b[0m\u001b[1;32m     52\u001b[0m         \u001b[0mself\u001b[0m\u001b[0;34m.\u001b[0m\u001b[0mduration\u001b[0m \u001b[0;34m=\u001b[0m \u001b[0minfos\u001b[0m\u001b[0;34m[\u001b[0m\u001b[0;34m'duration'\u001b[0m\u001b[0;34m]\u001b[0m\u001b[0;34m\u001b[0m\u001b[0;34m\u001b[0m\u001b[0m\n\u001b[1;32m     53\u001b[0m         \u001b[0;32mif\u001b[0m \u001b[0;34m'video_duration'\u001b[0m \u001b[0;32min\u001b[0m \u001b[0minfos\u001b[0m\u001b[0;34m:\u001b[0m\u001b[0;34m\u001b[0m\u001b[0;34m\u001b[0m\u001b[0m\n",
            "\u001b[0;32m/usr/local/lib/python3.10/dist-packages/moviepy/video/io/ffmpeg_reader.py\u001b[0m in \u001b[0;36mffmpeg_parse_infos\u001b[0;34m(filename, print_infos, check_duration, fps_source)\u001b[0m\n\u001b[1;32m    268\u001b[0m     \u001b[0mlines\u001b[0m \u001b[0;34m=\u001b[0m \u001b[0minfos\u001b[0m\u001b[0;34m.\u001b[0m\u001b[0msplitlines\u001b[0m\u001b[0;34m(\u001b[0m\u001b[0;34m)\u001b[0m\u001b[0;34m\u001b[0m\u001b[0;34m\u001b[0m\u001b[0m\n\u001b[1;32m    269\u001b[0m     \u001b[0;32mif\u001b[0m \u001b[0;34m\"No such file or directory\"\u001b[0m \u001b[0;32min\u001b[0m \u001b[0mlines\u001b[0m\u001b[0;34m[\u001b[0m\u001b[0;34m-\u001b[0m\u001b[0;36m1\u001b[0m\u001b[0;34m]\u001b[0m\u001b[0;34m:\u001b[0m\u001b[0;34m\u001b[0m\u001b[0;34m\u001b[0m\u001b[0m\n\u001b[0;32m--> 270\u001b[0;31m         raise IOError((\"MoviePy error: the file %s could not be found!\\n\"\n\u001b[0m\u001b[1;32m    271\u001b[0m                       \u001b[0;34m\"Please check that you entered the correct \"\u001b[0m\u001b[0;34m\u001b[0m\u001b[0;34m\u001b[0m\u001b[0m\n\u001b[1;32m    272\u001b[0m                       \"path.\")%filename)\n",
            "\u001b[0;31mOSError\u001b[0m: MoviePy error: the file video.mp4 could not be found!\nPlease check that you entered the correct path."
          ]
        }
      ],
      "source": [
        "# まずはやってみましょう！\n",
        "audiofile = AudioFileClip(\"tech0movie.mp4\")"
      ]
    },
    {
      "cell_type": "code",
      "execution_count": null,
      "metadata": {
        "colab": {
          "base_uri": "https://localhost:8080/",
          "height": 36
        },
        "id": "dasgay9lEOci",
        "outputId": "0256d02b-052e-4586-9c33-acd75f11ad81"
      },
      "outputs": [
        {
          "data": {
            "application/vnd.google.colaboratory.intrinsic+json": {
              "type": "string"
            },
            "text/plain": [
              "'/content'"
            ]
          },
          "execution_count": 6,
          "metadata": {},
          "output_type": "execute_result"
        }
      ],
      "source": [
        "#現在のディレクトリ名の確認\n",
        "%pwd"
      ]
    },
    {
      "cell_type": "markdown",
      "metadata": {
        "id": "A_V407tx7v-W"
      },
      "source": [
        "contentフォルダにいることが分かったので、そこに動画を入れましょう。\n",
        "\n",
        "①左端のフォルダマークをクリック\n",
        "\n",
        "②下の画像のグレー部分をクリック"
      ]
    },
    {
      "cell_type": "markdown",
      "metadata": {
        "id": "LNNj58w8B4zs"
      },
      "source": [
        "![スクリーンショット 2023-08-11 001838.png](data:image/png;base64,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)"
      ]
    },
    {
      "cell_type": "code",
      "execution_count": null,
      "metadata": {
        "colab": {
          "base_uri": "https://localhost:8080/"
        },
        "id": "0t1F_Nf3Lqg5",
        "outputId": "e4975fab-4d34-475d-c987-e95f24fdfbe8"
      },
      "outputs": [
        {
          "name": "stdout",
          "output_type": "stream",
          "text": [
            "MoviePy - Writing audio in tech0movie.wav\n"
          ]
        },
        {
          "name": "stderr",
          "output_type": "stream",
          "text": [
            "                                                                      "
          ]
        },
        {
          "name": "stdout",
          "output_type": "stream",
          "text": [
            "MoviePy - Done.\n"
          ]
        },
        {
          "name": "stderr",
          "output_type": "stream",
          "text": [
            "\r"
          ]
        }
      ],
      "source": [
        "#動画から音声のみを抽出\n",
        "audiofile = AudioFileClip(\"tech0movie.mp4\")  #test.mp4は動画ファイル名。入れたファイル名に変更してください。\n",
        "audiofile.write_audiofile(\"tech0movie.wav\")  #動画をtest.wavという名前に変換\n",
        "\n",
        "# 完了したらフォルダを更新してみよう！"
      ]
    },
    {
      "cell_type": "markdown",
      "metadata": {
        "id": "4lpO1RMCrere"
      },
      "source": [
        "##Whisperを使ってみよう\n"
      ]
    },
    {
      "cell_type": "code",
      "execution_count": null,
      "metadata": {
        "colab": {
          "base_uri": "https://localhost:8080/"
        },
        "id": "hdE6PeLyrk_z",
        "outputId": "a09ae6a7-eab3-488a-bd07-1394a71e48ea"
      },
      "outputs": [
        {
          "name": "stdout",
          "output_type": "stream",
          "text": [
            "Collecting git+https://github.com/openai/whisper\n",
            "  Cloning https://github.com/openai/whisper to /tmp/pip-req-build-ofvpu2jv\n",
            "  Running command git clone --filter=blob:none --quiet https://github.com/openai/whisper /tmp/pip-req-build-ofvpu2jv\n",
            "  Resolved https://github.com/openai/whisper to commit ba3f3cd54b0e5b8ce1ab3de13e32122d0d5f98ab\n",
            "  Installing build dependencies ... \u001b[?25l\u001b[?25hdone\n",
            "  Getting requirements to build wheel ... \u001b[?25l\u001b[?25hdone\n",
            "  Preparing metadata (pyproject.toml) ... \u001b[?25l\u001b[?25hdone\n",
            "Requirement already satisfied: numba in /usr/local/lib/python3.10/dist-packages (from openai-whisper==20231117) (0.58.1)\n",
            "Requirement already satisfied: numpy in /usr/local/lib/python3.10/dist-packages (from openai-whisper==20231117) (1.25.2)\n",
            "Requirement already satisfied: torch in /usr/local/lib/python3.10/dist-packages (from openai-whisper==20231117) (2.1.0+cu121)\n",
            "Requirement already satisfied: tqdm in /usr/local/lib/python3.10/dist-packages (from openai-whisper==20231117) (4.66.2)\n",
            "Requirement already satisfied: more-itertools in /usr/local/lib/python3.10/dist-packages (from openai-whisper==20231117) (10.1.0)\n",
            "Collecting tiktoken (from openai-whisper==20231117)\n",
            "  Downloading tiktoken-0.6.0-cp310-cp310-manylinux_2_17_x86_64.manylinux2014_x86_64.whl (1.8 MB)\n",
            "\u001b[2K     \u001b[90m━━━━━━━━━━━━━━━━━━━━━━━━━━━━━━━━━━━━━━━━\u001b[0m \u001b[32m1.8/1.8 MB\u001b[0m \u001b[31m28.5 MB/s\u001b[0m eta \u001b[36m0:00:00\u001b[0m\n",
            "\u001b[?25hRequirement already satisfied: triton<3,>=2.0.0 in /usr/local/lib/python3.10/dist-packages (from openai-whisper==20231117) (2.1.0)\n",
            "Requirement already satisfied: filelock in /usr/local/lib/python3.10/dist-packages (from triton<3,>=2.0.0->openai-whisper==20231117) (3.13.1)\n",
            "Requirement already satisfied: llvmlite<0.42,>=0.41.0dev0 in /usr/local/lib/python3.10/dist-packages (from numba->openai-whisper==20231117) (0.41.1)\n",
            "Requirement already satisfied: regex>=2022.1.18 in /usr/local/lib/python3.10/dist-packages (from tiktoken->openai-whisper==20231117) (2023.12.25)\n",
            "Requirement already satisfied: requests>=2.26.0 in /usr/local/lib/python3.10/dist-packages (from tiktoken->openai-whisper==20231117) (2.31.0)\n",
            "Requirement already satisfied: typing-extensions in /usr/local/lib/python3.10/dist-packages (from torch->openai-whisper==20231117) (4.10.0)\n",
            "Requirement already satisfied: sympy in /usr/local/lib/python3.10/dist-packages (from torch->openai-whisper==20231117) (1.12)\n",
            "Requirement already satisfied: networkx in /usr/local/lib/python3.10/dist-packages (from torch->openai-whisper==20231117) (3.2.1)\n",
            "Requirement already satisfied: jinja2 in /usr/local/lib/python3.10/dist-packages (from torch->openai-whisper==20231117) (3.1.3)\n",
            "Requirement already satisfied: fsspec in /usr/local/lib/python3.10/dist-packages (from torch->openai-whisper==20231117) (2023.6.0)\n",
            "Requirement already satisfied: charset-normalizer<4,>=2 in /usr/local/lib/python3.10/dist-packages (from requests>=2.26.0->tiktoken->openai-whisper==20231117) (3.3.2)\n",
            "Requirement already satisfied: idna<4,>=2.5 in /usr/local/lib/python3.10/dist-packages (from requests>=2.26.0->tiktoken->openai-whisper==20231117) (3.6)\n",
            "Requirement already satisfied: urllib3<3,>=1.21.1 in /usr/local/lib/python3.10/dist-packages (from requests>=2.26.0->tiktoken->openai-whisper==20231117) (2.0.7)\n",
            "Requirement already satisfied: certifi>=2017.4.17 in /usr/local/lib/python3.10/dist-packages (from requests>=2.26.0->tiktoken->openai-whisper==20231117) (2024.2.2)\n",
            "Requirement already satisfied: MarkupSafe>=2.0 in /usr/local/lib/python3.10/dist-packages (from jinja2->torch->openai-whisper==20231117) (2.1.5)\n",
            "Requirement already satisfied: mpmath>=0.19 in /usr/local/lib/python3.10/dist-packages (from sympy->torch->openai-whisper==20231117) (1.3.0)\n",
            "Building wheels for collected packages: openai-whisper\n",
            "  Building wheel for openai-whisper (pyproject.toml) ... \u001b[?25l\u001b[?25hdone\n",
            "  Created wheel for openai-whisper: filename=openai_whisper-20231117-py3-none-any.whl size=802825 sha256=484cbca416b1af0f238104c75e2fcfffbf1c8d4f93593c9fe789726a02dfdfe3\n",
            "  Stored in directory: /tmp/pip-ephem-wheel-cache-97jb9ogo/wheels/3d/da/23/a3edaa30ff9d841d474be2db3d17e9230a578e81850b82195d\n",
            "Successfully built openai-whisper\n",
            "Installing collected packages: tiktoken, openai-whisper\n",
            "Successfully installed openai-whisper-20231117 tiktoken-0.6.0\n"
          ]
        }
      ],
      "source": [
        "#whisperのインストール\n",
        "!pip install git+https://github.com/openai/whisper"
      ]
    },
    {
      "cell_type": "code",
      "execution_count": null,
      "metadata": {
        "id": "n0xXxQJFsT3Y"
      },
      "outputs": [],
      "source": [
        "#whisperの実装\n",
        "import whisper"
      ]
    },
    {
      "cell_type": "code",
      "execution_count": null,
      "metadata": {
        "colab": {
          "base_uri": "https://localhost:8080/"
        },
        "id": "NrlQgNk7sZMf",
        "outputId": "5d0f8609-e19f-40ad-ad83-2da60f1615dc"
      },
      "outputs": [
        {
          "data": {
            "text/plain": [
              "['tiny.en',\n",
              " 'tiny',\n",
              " 'base.en',\n",
              " 'base',\n",
              " 'small.en',\n",
              " 'small',\n",
              " 'medium.en',\n",
              " 'medium',\n",
              " 'large-v1',\n",
              " 'large-v2',\n",
              " 'large-v3',\n",
              " 'large']"
            ]
          },
          "execution_count": 10,
          "metadata": {},
          "output_type": "execute_result"
        }
      ],
      "source": [
        "#whisperで使用できるモデルの確認（参考：https://qiita.com/diesekiefer/items/00d8c1507829b58a62ab）\n",
        "whisper.available_models()"
      ]
    },
    {
      "cell_type": "markdown",
      "metadata": {
        "id": "R-BWy3Mp-CXu"
      },
      "source": [
        "whisperには複数のモデルが含まれていることが分かりましたので、比較してみましょう！"
      ]
    },
    {
      "cell_type": "code",
      "execution_count": null,
      "metadata": {
        "colab": {
          "base_uri": "https://localhost:8080/"
        },
        "id": "xJnrUdL7ses4",
        "outputId": "b42348de-948f-49d7-f482-ebd052cd61e3"
      },
      "outputs": [
        {
          "name": "stderr",
          "output_type": "stream",
          "text": [
            "100%|█████████████████████████████████████| 72.1M/72.1M [00:01<00:00, 63.4MiB/s]\n",
            "100%|███████████████████████████████████████| 461M/461M [00:12<00:00, 40.1MiB/s]\n"
          ]
        }
      ],
      "source": [
        "#whisperのモデルの決定、今回はtinyとsmall, mediumの2種類を利用\n",
        "#mediumの方が精度は高いが、実行にも時間がかかる\n",
        "input_voice = \"tech0movie.wav\"\n",
        "model = whisper.load_model(\"tiny\")\n",
        "model2 = whisper.load_model(\"small\")"
      ]
    },
    {
      "cell_type": "code",
      "execution_count": null,
      "metadata": {
        "id": "SU6Iq0ENsq3R"
      },
      "outputs": [],
      "source": [
        "#whisperの各モデルで書き起こし\n",
        "result = model.transcribe(input_voice)\n",
        "result2 = model2.transcribe(input_voice)"
      ]
    },
    {
      "cell_type": "code",
      "execution_count": null,
      "metadata": {
        "colab": {
          "base_uri": "https://localhost:8080/"
        },
        "id": "OoHJMK-Ls2C6",
        "outputId": "988b3fb1-47aa-4bf1-84a0-f1d836764686"
      },
      "outputs": [
        {
          "name": "stdout",
          "output_type": "stream",
          "text": [
            "tinyの場合： そうです。はい。しました。というところで、5分ほどずつだんをしたいから、そうですけど。では、ずつだんま、スタートを押すのじゃと、書いてあるので、押してみなさん。スタッフ。うどんは、そばか。これは、そうね。そばか。そばかりですね。これが。わなぜなら、なぜなら、わなか、面が、面のほと、ほそさん。うん。出来に、なんか、一杯食べるので、この、この、このつが、おいほが、あれ、やっぱり、そうね、そうね、その感覚なかった。うどんは、そばか。うどんは、むずたしなかった。キセツにも、よるし。やっぱり、やっぱり、ザルソバ。みたいなのやっぱ、なんか、でも、ザルウドも好きだしな。そうね、やっぱり、なんか、水のおいしいところとか、そば、やっぱ食べてみんなくなるし。なんか、チェーンってんで、なんか、気があるに入れるそばやさん、あんま多くなくないですか。あー、ないです。なんか、バルガメセーメンとか、花マルウドンって、結構、アル、イメージで、まぁ、しかも両方とも、うまい。でも、そばって、そじぼうぐらいしか。でも、クレア、たし、思いつか、たしが、チェーン、そばとか、あ、チェーン、あ、あんまりないな、そばのイメージが、チェーン、そばだね、もう、あ、たってくうもの、で、すしか、そばか。いまいろ、パストフードなんですからね。そば、文字通り、パストフード、どこしれない。そば、そば、そば、僕は、結論が危険でてないですけど。うん。どっちかつたら、どっちかつたら、うどんかな、うどんか、そばは、なんだろう。特別な日は、そばかなってもんすよね。たし、おいしいおそばやさんとか、もしごしそばとか、うんうんうんうん。日常ぐいはやっぱうどんすね。うん、たし、たし、そう、そばで思い出すと、正解やまい、僕はもう、おなかつよ、いいほうだ。そば、そば、どこだし、ますよね。たし、いっぱい食べたきついなってときは、うん。たしか、たしか、という感じで、ちょうど、三分ぐらいですかね。うん。たしたんでじゃあ、結論は、私が、うどんは、まいださんが、そばは、いうことで、これを聞いている、アートはいっぱい、どちらはでしょうか。というところ、そう実の、あれですね。反显後に、ぜひ、皆さんから教えていただきたいなと、お会いまさ。というところで、レコーディングをストップします。おい。\n",
            "smallの場合： はい、どうしました?というところで、5分ほど雑談をしたいなと思うんですけど、雑談マンスタートをすのじゃと書いてあるので、押してみます。ストップ。うどんは?そばは?うわー、これはそうね。そばはですね。なぜなら、面の細さ、的にいっぱい食べるので、この2が多い方が、あらいっぱいなりそうな印象。なるほどっすね。その感覚なかった。うどんはそばは?うわ、難しいな。季節にもよるっすけどね。いや、それはめちゃめちゃある。やっぱり、ザルそばみたいなの、でもザルうどんも好きだしな。そうね。やっぱり、水の美味しいところとか、そば食べたくなるし。確かに、チェーン店で気軽に入れるそば屋さんってあんま多くなくないっすか?ああ、ナイスね。丸がめ生面とか、金丸うどんって結構いろんなところにあるイメージで、しかも両方ともうまい。でも、そばって素地棒ぐらいしか。でも、確かにね。たちぐいそばとかね。ああいうところのそばのイメージはあるけど。確かに。あんまりないな、そばのイメージが。ちぐいそばだね、あいう文化も面白いですけどね。あんまいかないけど。たって食うものって、すしかそばか。いわゆるファストフードなんすかね。文字通りファストフードなんてかもしれない。なるほどな。うどんはそばは僕は結論が結局出てないですけど。どっちかつったら。どっちかつったら、うどんかなー。うどんか。うどんかなー。そばは、なんだろう。特別な日はそばかなって思うんですよね。おいしいおそば屋さんとか、しこしそばとか。日常ぐいはやっぱうどんすね。確かに。そばで思い出すと、しょうかに、お腹強く言う方じゃないです。お腹がくだしますよね。たったら、いっぱい食べるときついなって時はありますね。確かに。という感じで、ちょうど3分ぐらいかな。結論は、私がうどんは、前田さんがそばはということで、これを聞いているあなたはどちらはでしょうか?当日のハンズオン後に、ぜひ皆さんから教えていただきたいなと思います。というところで、レコーディングをストップします。\n"
          ]
        }
      ],
      "source": [
        "#書き起こしの結果を出力\n",
        "recog_text = result[\"text\"]\n",
        "recog_text2 = result2[\"text\"]\n",
        "print(\"tinyの場合：\",recog_text)\n",
        "print(\"smallの場合：\",recog_text2)"
      ]
    },
    {
      "cell_type": "code",
      "execution_count": null,
      "metadata": {
        "id": "V7eqEbTy2oNF"
      },
      "outputs": [],
      "source": [
        "# ファイルを書き込み用にオープンして、ファイル先頭から文字列を書き込む\n",
        "with open('議事録.txt', 'w') as f:\n",
        "    f.write(recog_text2)\n",
        "    f.close()"
      ]
    },
    {
      "cell_type": "markdown",
      "metadata": {
        "id": "cLs4-QPf-cDo"
      },
      "source": [
        "書き起こしの結果はどうだったでしょうか？\n",
        "興味ある方は、別のモデルも試してみてください。"
      ]
    },
    {
      "cell_type": "markdown",
      "metadata": {
        "id": "Juk-T6Vf-3Kg"
      },
      "source": [
        "結果を見てみると、話している人の区別がついていないので、議事録を作成するには話者分離を行う必要です。\n",
        "→今回は時間の都合上割愛します。"
      ]
    },
    {
      "cell_type": "markdown",
      "metadata": {
        "id": "305e0ee0"
      },
      "source": [
        "# 文字起こし文章の要約"
      ]
    },
    {
      "cell_type": "markdown",
      "metadata": {
        "id": "91348066"
      },
      "source": [
        "## 目的\n",
        "文字起こし文章のテキストデータをchatGPTで要約する中で、下記の知識を身につける。\n",
        "* openAIのAPIを利用してPythonでchatGPTを実行できるようになる\n",
        "* プロンプトの工夫点を学び、自分なりにプロンプトを書けるようになる"
      ]
    },
    {
      "cell_type": "markdown",
      "metadata": {
        "id": "582f45ec"
      },
      "source": [
        "## 必要なライブラリ（実行時の環境）\n",
        "* openai 0.27.8"
      ]
    },
    {
      "cell_type": "markdown",
      "metadata": {
        "id": "143e818c"
      },
      "source": [
        "### ⓪ ライブラリのインストール"
      ]
    },
    {
      "cell_type": "code",
      "execution_count": 2,
      "metadata": {
        "colab": {
          "base_uri": "https://localhost:8080/"
        },
        "id": "5f18f386",
        "outputId": "4f0d8b53-8c9e-47e1-9160-7e3f633d28ce"
      },
      "outputs": [
        {
          "name": "stdout",
          "output_type": "stream",
          "text": [
            "Defaulting to user installation because normal site-packages is not writeable\n",
            "Could not fetch URL https://pypi.org/simple/openai/: There was a problem confirming the ssl certificate: HTTPSConnectionPool(host='pypi.org', port=443): Max retries exceeded with url: /simple/openai/ (Caused by SSLError(SSLCertVerificationError(1, '[SSL: CERTIFICATE_VERIFY_FAILED] certificate verify failed: unable to get local issuer certificate (_ssl.c:1000)'))) - skipping\n",
            "Could not fetch URL https://pypi.org/simple/pip/: There was a problem confirming the ssl certificate: HTTPSConnectionPool(host='pypi.org', port=443): Max retries exceeded with url: /simple/pip/ (Caused by SSLError(SSLCertVerificationError(1, '[SSL: CERTIFICATE_VERIFY_FAILED] certificate verify failed: unable to get local issuer certificate (_ssl.c:1000)'))) - skipping\n"
          ]
        },
        {
          "name": "stderr",
          "output_type": "stream",
          "text": [
            "WARNING: Retrying (Retry(total=4, connect=None, read=None, redirect=None, status=None)) after connection broken by 'SSLError(SSLCertVerificationError(1, '[SSL: CERTIFICATE_VERIFY_FAILED] certificate verify failed: unable to get local issuer certificate (_ssl.c:1000)'))': /simple/openai/\n",
            "WARNING: Retrying (Retry(total=3, connect=None, read=None, redirect=None, status=None)) after connection broken by 'SSLError(SSLCertVerificationError(1, '[SSL: CERTIFICATE_VERIFY_FAILED] certificate verify failed: unable to get local issuer certificate (_ssl.c:1000)'))': /simple/openai/\n",
            "WARNING: Retrying (Retry(total=2, connect=None, read=None, redirect=None, status=None)) after connection broken by 'SSLError(SSLCertVerificationError(1, '[SSL: CERTIFICATE_VERIFY_FAILED] certificate verify failed: unable to get local issuer certificate (_ssl.c:1000)'))': /simple/openai/\n",
            "WARNING: Retrying (Retry(total=1, connect=None, read=None, redirect=None, status=None)) after connection broken by 'SSLError(SSLCertVerificationError(1, '[SSL: CERTIFICATE_VERIFY_FAILED] certificate verify failed: unable to get local issuer certificate (_ssl.c:1000)'))': /simple/openai/\n",
            "WARNING: Retrying (Retry(total=0, connect=None, read=None, redirect=None, status=None)) after connection broken by 'SSLError(SSLCertVerificationError(1, '[SSL: CERTIFICATE_VERIFY_FAILED] certificate verify failed: unable to get local issuer certificate (_ssl.c:1000)'))': /simple/openai/\n",
            "ERROR: Could not find a version that satisfies the requirement openai==0.27.8 (from versions: none)\n",
            "ERROR: No matching distribution found for openai==0.27.8\n"
          ]
        }
      ],
      "source": [
        "!pip install openai==0.27.8"
      ]
    },
    {
      "cell_type": "markdown",
      "metadata": {
        "id": "1858adfa"
      },
      "source": [
        "### ①-1：openAI APIの準備"
      ]
    },
    {
      "cell_type": "code",
      "execution_count": 3,
      "metadata": {
        "id": "34f8cc63"
      },
      "outputs": [],
      "source": [
        "import openai\n",
        "openai.api_type = \"azure\"\n",
        "openai.api_base = \"https://tech0-gpt-event-westus.openai.azure.com\"\n",
        "# 実際はこのように書くと、「悪用」されてしまいます。この秘密鍵は今日中に使えなくなります。\n",
        "openai.api_key = \"e145f3d236e34001a3e8234787245bdb\"\n",
        "openai.api_version = \"2023-05-15\""
      ]
    },
    {
      "cell_type": "markdown",
      "metadata": {
        "id": "e83fb486"
      },
      "source": [
        "### ①-2：openAI APIのテスト\n",
        "上記のAPIキーで問題なく作動することを確認する"
      ]
    },
    {
      "cell_type": "code",
      "execution_count": 4,
      "metadata": {
        "colab": {
          "base_uri": "https://localhost:8080/"
        },
        "id": "cc06cb2f",
        "outputId": "8370edcf-546d-4d82-8d2e-408919f14c57"
      },
      "outputs": [
        {
          "ename": "APIRemovedInV1",
          "evalue": "\n\nYou tried to access openai.ChatCompletion, but this is no longer supported in openai>=1.0.0 - see the README at https://github.com/openai/openai-python for the API.\n\nYou can run `openai migrate` to automatically upgrade your codebase to use the 1.0.0 interface. \n\nAlternatively, you can pin your installation to the old version, e.g. `pip install openai==0.28`\n\nA detailed migration guide is available here: https://github.com/openai/openai-python/discussions/742\n",
          "output_type": "error",
          "traceback": [
            "\u001b[1;31m---------------------------------------------------------------------------\u001b[0m",
            "\u001b[1;31mAPIRemovedInV1\u001b[0m                            Traceback (most recent call last)",
            "Cell \u001b[1;32mIn[4], line 2\u001b[0m\n\u001b[0;32m      1\u001b[0m \u001b[38;5;66;03m# chatGPTに質問する\u001b[39;00m\n\u001b[1;32m----> 2\u001b[0m response \u001b[38;5;241m=\u001b[39m openai\u001b[38;5;241m.\u001b[39mChatCompletion\u001b[38;5;241m.\u001b[39mcreate(\n\u001b[0;32m      3\u001b[0m     engine\u001b[38;5;241m=\u001b[39m\u001b[38;5;124m\"\u001b[39m\u001b[38;5;124mgpt-35-turbo\u001b[39m\u001b[38;5;124m\"\u001b[39m,\n\u001b[0;32m      4\u001b[0m     messages\u001b[38;5;241m=\u001b[39m[\n\u001b[0;32m      5\u001b[0m         {\u001b[38;5;124m\"\u001b[39m\u001b[38;5;124mrole\u001b[39m\u001b[38;5;124m\"\u001b[39m: \u001b[38;5;124m\"\u001b[39m\u001b[38;5;124muser\u001b[39m\u001b[38;5;124m\"\u001b[39m, \u001b[38;5;124m\"\u001b[39m\u001b[38;5;124mcontent\u001b[39m\u001b[38;5;124m\"\u001b[39m: \u001b[38;5;124m\"\u001b[39m\u001b[38;5;124m大谷翔平について50文字以内で教えて\u001b[39m\u001b[38;5;124m\"\u001b[39m},\n\u001b[0;32m      6\u001b[0m     ],\n\u001b[0;32m      7\u001b[0m )\n\u001b[0;32m      8\u001b[0m \u001b[38;5;66;03m# 回答の表示\u001b[39;00m\n\u001b[0;32m      9\u001b[0m \u001b[38;5;28mprint\u001b[39m(response\u001b[38;5;241m.\u001b[39mchoices[\u001b[38;5;241m0\u001b[39m][\u001b[38;5;124m\"\u001b[39m\u001b[38;5;124mmessage\u001b[39m\u001b[38;5;124m\"\u001b[39m][\u001b[38;5;124m\"\u001b[39m\u001b[38;5;124mcontent\u001b[39m\u001b[38;5;124m\"\u001b[39m]\u001b[38;5;241m.\u001b[39mstrip())\n",
            "File \u001b[1;32mc:\\Users\\Yo_Kishimoto\\AppData\\Local\\anaconda4\\Lib\\site-packages\\openai\\_utils\\_proxy.py:22\u001b[0m, in \u001b[0;36mLazyProxy.__getattr__\u001b[1;34m(self, attr)\u001b[0m\n\u001b[0;32m     21\u001b[0m \u001b[38;5;28;01mdef\u001b[39;00m \u001b[38;5;21m__getattr__\u001b[39m(\u001b[38;5;28mself\u001b[39m, attr: \u001b[38;5;28mstr\u001b[39m) \u001b[38;5;241m-\u001b[39m\u001b[38;5;241m>\u001b[39m \u001b[38;5;28mobject\u001b[39m:\n\u001b[1;32m---> 22\u001b[0m     \u001b[38;5;28;01mreturn\u001b[39;00m \u001b[38;5;28mgetattr\u001b[39m(\u001b[38;5;28mself\u001b[39m\u001b[38;5;241m.\u001b[39m__get_proxied__(), attr)\n",
            "File \u001b[1;32mc:\\Users\\Yo_Kishimoto\\AppData\\Local\\anaconda4\\Lib\\site-packages\\openai\\_utils\\_proxy.py:43\u001b[0m, in \u001b[0;36mLazyProxy.__get_proxied__\u001b[1;34m(self)\u001b[0m\n\u001b[0;32m     41\u001b[0m \u001b[38;5;28;01mdef\u001b[39;00m \u001b[38;5;21m__get_proxied__\u001b[39m(\u001b[38;5;28mself\u001b[39m) \u001b[38;5;241m-\u001b[39m\u001b[38;5;241m>\u001b[39m T:\n\u001b[0;32m     42\u001b[0m     \u001b[38;5;28;01mif\u001b[39;00m \u001b[38;5;129;01mnot\u001b[39;00m \u001b[38;5;28mself\u001b[39m\u001b[38;5;241m.\u001b[39mshould_cache:\n\u001b[1;32m---> 43\u001b[0m         \u001b[38;5;28;01mreturn\u001b[39;00m \u001b[38;5;28mself\u001b[39m\u001b[38;5;241m.\u001b[39m__load__()\n\u001b[0;32m     45\u001b[0m     proxied \u001b[38;5;241m=\u001b[39m \u001b[38;5;28mself\u001b[39m\u001b[38;5;241m.\u001b[39m__proxied\n\u001b[0;32m     46\u001b[0m     \u001b[38;5;28;01mif\u001b[39;00m proxied \u001b[38;5;129;01mis\u001b[39;00m \u001b[38;5;129;01mnot\u001b[39;00m \u001b[38;5;28;01mNone\u001b[39;00m:\n",
            "File \u001b[1;32mc:\\Users\\Yo_Kishimoto\\AppData\\Local\\anaconda4\\Lib\\site-packages\\openai\\lib\\_old_api.py:33\u001b[0m, in \u001b[0;36mAPIRemovedInV1Proxy.__load__\u001b[1;34m(self)\u001b[0m\n\u001b[0;32m     31\u001b[0m \u001b[38;5;129m@override\u001b[39m\n\u001b[0;32m     32\u001b[0m \u001b[38;5;28;01mdef\u001b[39;00m \u001b[38;5;21m__load__\u001b[39m(\u001b[38;5;28mself\u001b[39m) \u001b[38;5;241m-\u001b[39m\u001b[38;5;241m>\u001b[39m \u001b[38;5;28;01mNone\u001b[39;00m:\n\u001b[1;32m---> 33\u001b[0m     \u001b[38;5;28;01mraise\u001b[39;00m APIRemovedInV1(symbol\u001b[38;5;241m=\u001b[39m\u001b[38;5;28mself\u001b[39m\u001b[38;5;241m.\u001b[39m_symbol)\n",
            "\u001b[1;31mAPIRemovedInV1\u001b[0m: \n\nYou tried to access openai.ChatCompletion, but this is no longer supported in openai>=1.0.0 - see the README at https://github.com/openai/openai-python for the API.\n\nYou can run `openai migrate` to automatically upgrade your codebase to use the 1.0.0 interface. \n\nAlternatively, you can pin your installation to the old version, e.g. `pip install openai==0.28`\n\nA detailed migration guide is available here: https://github.com/openai/openai-python/discussions/742\n"
          ]
        }
      ],
      "source": [
        "# chatGPTに質問する\n",
        "response = openai.ChatCompletion.create(\n",
        "    engine=\"gpt-35-turbo\",\n",
        "    messages=[\n",
        "        {\"role\": \"user\", \"content\": \"大谷翔平について50文字以内で教えて\"},\n",
        "    ],\n",
        ")\n",
        "# 回答の表示\n",
        "print(response.choices[0][\"message\"][\"content\"].strip())"
      ]
    },
    {
      "cell_type": "markdown",
      "metadata": {
        "id": "f0d1e80a"
      },
      "source": [
        "### ③-1： 文字起こし文章の確認\n",
        "文字起こし＆要約アプリの打ち合わせをした時の文字起こしデータを要約してみましょう。\n",
        "\n",
        "ただし、GPTで扱える文章量には制限があることに注意します。今回は短めの文章なので問題なく対応できるはずです。\n",
        "\n",
        "トークン数のカウント：https://techblog.gmo-ap.jp/2023/06/12/tiktoken/"
      ]
    },
    {
      "cell_type": "code",
      "execution_count": 5,
      "metadata": {
        "colab": {
          "base_uri": "https://localhost:8080/"
        },
        "id": "48d80307",
        "outputId": "30c1c8d9-d904-42c5-9b99-f90233932884"
      },
      "outputs": [
        {
          "name": "stdout",
          "output_type": "stream",
          "text": [
            "846 文字\n",
            "---------------------\n",
            "はい、どうしました?というところで、5分ほど雑談をしたいなと思うんですけど、雑談マンスタートをすのじゃと書いてあるので、押してみます。ストップ。うどんは?そばは?うわー、これはそうね。そばはですね。な\n"
          ]
        }
      ],
      "source": [
        "# 文字起こしデータはファイルにドラック＆ドロップで保存してください\n",
        "# テキストデータの格納（変数all_text）\n",
        "with open(\"議事録.txt\") as f:\n",
        "    all_text = f.read()\n",
        "# 文字数の確認\n",
        "print(str(len(all_text))+\" 文字\")\n",
        "#文章の一部を表示\n",
        "print(\"---------------------\")\n",
        "print(all_text[0:100])"
      ]
    },
    {
      "cell_type": "code",
      "execution_count": 11,
      "metadata": {
        "collapsed": true,
        "id": "166a5d3b"
      },
      "outputs": [],
      "source": [
        "def summary(all_text):\n",
        "  # プロンプト文の作成（文字起こし文章を要約するように依頼）\n",
        "  prompt = \"次のテキストを要約してください：{}\".format(all_text)\n",
        "  # chatGPTに質問する\n",
        "  response = openai.ChatCompletion.create(\n",
        "      engine=\"gpt-35-turbo\",\n",
        "      messages=[\n",
        "          {\"role\": \"user\", \"content\": prompt},\n",
        "      ],\n",
        "  )\n",
        "  # 回答の表示\n",
        "  res = response.choices[0][\"message\"][\"content\"].strip()\n",
        "  return res"
      ]
    },
    {
      "cell_type": "code",
      "execution_count": 12,
      "metadata": {
        "colab": {
          "base_uri": "https://localhost:8080/"
        },
        "id": "fCZZwEki_SBN",
        "outputId": "e7acf9d4-c1f0-4bdc-a654-74ff24e78bcb"
      },
      "outputs": [
        {
          "name": "stdout",
          "output_type": "stream",
          "text": [
            "5分間の雑談を楽しんでいた2人が、うどんとそばのどちらが好きかを話し合っている。結論は出なかったが、うどん派とそば派に分かれ、聞いている人にもどちらが好きか問いかけている。\n"
          ]
        }
      ],
      "source": [
        "# 要約結果の確認\n",
        "result = summary(all_text)\n",
        "print(result)"
      ]
    },
    {
      "cell_type": "markdown",
      "metadata": {
        "id": "s9v4YV3B4_3F"
      },
      "source": [
        "時間が余ったら...\n",
        "プロンプトエンジニアリングに挑戦してみよう。"
      ]
    },
    {
      "cell_type": "code",
      "execution_count": 13,
      "metadata": {
        "id": "ncMVAJZ-4_UJ"
      },
      "outputs": [],
      "source": [
        "# このブロックともう一つ下のブロックを使ってGPTとやり取りしてみましょう。\n",
        "def kaiwa(role,input_text):\n",
        "  # chatGPTに質問する\n",
        "  response = openai.ChatCompletion.create(\n",
        "      engine=\"gpt-35-turbo\",\n",
        "      messages=[\n",
        "          {\"role\": \"assistant\", \"content\": role},\n",
        "          {\"role\": \"user\", \"content\": input_text},\n",
        "      ],\n",
        "  )\n",
        "  # 回答の表示\n",
        "  res = response.choices[0][\"message\"][\"content\"].strip()\n",
        "  return res"
      ]
    },
    {
      "cell_type": "code",
      "execution_count": 19,
      "metadata": {
        "id": "mTCJBDsA4_CH"
      },
      "outputs": [],
      "source": [
        "role = \"この中に役割とやってほしいことを定義してみましょう\"\n",
        "#例： role = \"下記の文章を中国語に翻訳して、どういうサービスか箇条書きで説明して下さい。\"\n",
        "with open(\"testfile.txt\") as f:\n",
        "    test_text = f.read()"
      ]
    },
    {
      "cell_type": "code",
      "execution_count": 20,
      "metadata": {
        "colab": {
          "base_uri": "https://localhost:8080/"
        },
        "id": "vsye1srv5hWP",
        "outputId": "613fd822-5780-4e4c-a303-76d5c919b918"
      },
      "outputs": [
        {
          "name": "stdout",
          "output_type": "stream",
          "text": [
            "这是 Tech0 Boot Camp 的宣传文案，基本上是一家提供技术培训的公司。这里提供日本以及国际环境下变革企业所需要的技术能力，主要通过提供“Tech0 Boot Camp”计划帮助人们提升技能，以创造和变革企业的商业生态。\n",
            "\n",
            "以下是该服务的主要特点：\n",
            "\n",
            "- 提供期限为1个月的退款保障\n",
            "- 超过200名学生已参与该培训\n",
            "- 通过商业与数字技术，培养具有创新变革精神的人才\n",
            "- 提供线上讲座会议，可以通过官方 LINE 预订\n",
            "- 提供 Touch0 Boot Camp，让非技术人员深入接触工程技术，并与志同道合的伙伴一起创造新价值的社区\n",
            "- 获得“Tech0 Boot Camp”的学员普遍好评，覆盖200名以上学生和超过96.5%的学员满意度\n",
            "\n",
            "该服务还提供详细的计划表，包括基础学习、模拟设计、实践培训和应用能力提升等内容，并特别注明提供针对不同水平的学员个性化的学习支持，以及通过与其他学员合作学习的机会。\n",
            "\n",
            "通过该服务，学员可以在365天内更深入了解日本和国际领先企业所需的技术能力，培养具有卓越技能的人才。\n"
          ]
        }
      ],
      "source": [
        "res = kaiwa(role, test_text)\n",
        "print(res)"
      ]
    }
  ],
  "metadata": {
    "accelerator": "GPU",
    "colab": {
      "gpuType": "T4",
      "provenance": []
    },
    "kernelspec": {
      "display_name": "Python 3",
      "name": "python3"
    },
    "language_info": {
      "codemirror_mode": {
        "name": "ipython",
        "version": 3
      },
      "file_extension": ".py",
      "mimetype": "text/x-python",
      "name": "python",
      "nbconvert_exporter": "python",
      "pygments_lexer": "ipython3",
      "version": "3.11.4"
    }
  },
  "nbformat": 4,
  "nbformat_minor": 0
}

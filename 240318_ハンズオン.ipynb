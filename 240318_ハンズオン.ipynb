{
  "nbformat": 4,
  "nbformat_minor": 0,
  "metadata": {
    "colab": {
      "provenance": [],
      "gpuType": "T4"
    },
    "kernelspec": {
      "name": "python3",
      "display_name": "Python 3"
    },
    "language_info": {
      "name": "python"
    },
    "accelerator": "GPU"
  },
  "cells": [
    {
      "cell_type": "markdown",
      "source": [
        "# GPTのAPIを呼び出してみよう！ハンズオンプログラミング体験\n",
        "\n",
        "## 免責事項\n",
        "> これは㈱Tech0によって提供されるプログラムのWS用ファイルであり、その目的に特化して作成されています。当社では、このファイルを使用した際に発生する可能性のあるいかなる不具合についても責任を負いかねます。<br>ファイルの品質と機能性を確保するために万全を尽くしておりますが、万一の不具合発生時にはご理解いただけますようお願い申し上げます。\n",
        "\n",
        "## 操作方法\n",
        "\n",
        "下記に用意されているコードに対して、<br>\n",
        "> windows: コードブロックを選択した状態でCtrl + Enter<br>\n",
        ">Mac: コードブロックを選択した状態でCommand + Enter\n",
        "\n",
        "もしくは▶マークを選択して、コードを起動してください。\n",
        "\n",
        "## 確認\n",
        "\n",
        "コードブロック横が✔になれば動作は完了しています。<br>\n",
        "Warningが表示されていたとしても、先に続くコードが活用できていれば基本問題はございません。"
      ],
      "metadata": {
        "id": "BymhbEkaswDH"
      }
    },
    {
      "cell_type": "code",
      "source": [
        "##################### シャープはコメントアウトと呼び、コード部分ではない解説やメモを記載できます #######################\n",
        "\n",
        "# こんな感じでメモが取れます。"
      ],
      "metadata": {
        "id": "gLMZjvIos-iv"
      },
      "execution_count": null,
      "outputs": []
    },
    {
      "cell_type": "markdown",
      "metadata": {
        "id": "305e0ee0"
      },
      "source": [
        "# GPTを呼び出してみましょう！"
      ]
    },
    {
      "cell_type": "markdown",
      "metadata": {
        "id": "91348066"
      },
      "source": [
        "## 目的\n",
        "ChatGPTの裏側で活用されている「GPT」をAPIで呼び出し、活用のイメージを持つこと。\n",
        "また、プロンプトエンジニアリングを体験すること。\n",
        "* openAIのAPIを利用してPythonでchatGPTを実行できるようになる\n",
        "* プロンプトの工夫点を学び、自分なりにプロンプトを書けるようになる"
      ]
    },
    {
      "cell_type": "markdown",
      "metadata": {
        "id": "582f45ec"
      },
      "source": [
        "## 必要なライブラリ（実行時の環境）\n",
        "* openai 0.27.8"
      ]
    },
    {
      "cell_type": "markdown",
      "metadata": {
        "id": "143e818c"
      },
      "source": [
        "### ⓪ ライブラリのインストール"
      ]
    },
    {
      "cell_type": "code",
      "execution_count": null,
      "metadata": {
        "id": "5f18f386",
        "colab": {
          "base_uri": "https://localhost:8080/"
        },
        "outputId": "3714e254-b000-4b71-c6d6-4a02c3e7ab49"
      },
      "outputs": [
        {
          "output_type": "stream",
          "name": "stdout",
          "text": [
            "Requirement already satisfied: openai==0.27.8 in /usr/local/lib/python3.10/dist-packages (0.27.8)\n",
            "Requirement already satisfied: requests>=2.20 in /usr/local/lib/python3.10/dist-packages (from openai==0.27.8) (2.31.0)\n",
            "Requirement already satisfied: tqdm in /usr/local/lib/python3.10/dist-packages (from openai==0.27.8) (4.66.2)\n",
            "Requirement already satisfied: aiohttp in /usr/local/lib/python3.10/dist-packages (from openai==0.27.8) (3.9.3)\n",
            "Requirement already satisfied: charset-normalizer<4,>=2 in /usr/local/lib/python3.10/dist-packages (from requests>=2.20->openai==0.27.8) (3.3.2)\n",
            "Requirement already satisfied: idna<4,>=2.5 in /usr/local/lib/python3.10/dist-packages (from requests>=2.20->openai==0.27.8) (3.6)\n",
            "Requirement already satisfied: urllib3<3,>=1.21.1 in /usr/local/lib/python3.10/dist-packages (from requests>=2.20->openai==0.27.8) (2.0.7)\n",
            "Requirement already satisfied: certifi>=2017.4.17 in /usr/local/lib/python3.10/dist-packages (from requests>=2.20->openai==0.27.8) (2024.2.2)\n",
            "Requirement already satisfied: aiosignal>=1.1.2 in /usr/local/lib/python3.10/dist-packages (from aiohttp->openai==0.27.8) (1.3.1)\n",
            "Requirement already satisfied: attrs>=17.3.0 in /usr/local/lib/python3.10/dist-packages (from aiohttp->openai==0.27.8) (23.2.0)\n",
            "Requirement already satisfied: frozenlist>=1.1.1 in /usr/local/lib/python3.10/dist-packages (from aiohttp->openai==0.27.8) (1.4.1)\n",
            "Requirement already satisfied: multidict<7.0,>=4.5 in /usr/local/lib/python3.10/dist-packages (from aiohttp->openai==0.27.8) (6.0.5)\n",
            "Requirement already satisfied: yarl<2.0,>=1.0 in /usr/local/lib/python3.10/dist-packages (from aiohttp->openai==0.27.8) (1.9.4)\n",
            "Requirement already satisfied: async-timeout<5.0,>=4.0 in /usr/local/lib/python3.10/dist-packages (from aiohttp->openai==0.27.8) (4.0.3)\n"
          ]
        }
      ],
      "source": [
        "# まずはopenAIのライブラリ（機能的なもの）を今回の環境上にインストールします。\n",
        "# イメージ）「武器」を装備ショップから買う。\n",
        "!pip install openai==0.27.8"
      ]
    },
    {
      "cell_type": "code",
      "execution_count": null,
      "metadata": {
        "id": "34f8cc63"
      },
      "outputs": [],
      "source": [
        "# 次に、ライブラリを環境上で「使えるように」インポートします。\n",
        "# イメージ）買ってきた「武器」を「装備」する。\n",
        "import openai"
      ]
    },
    {
      "cell_type": "code",
      "source": [
        "# 設定をしましょう。このような設定が必要ないAPIも世の中にはたくさんあります。\n",
        "# イメージ）武器のパラメータ（色や装飾品をつけられたりしますよね...？）を設定して、効果を発揮するようにする。\n",
        "\n",
        "openai.api_type = \"azure\"\n",
        "openai.api_base = \"https://tech0-gpt-event-westus.openai.azure.com\"\n",
        "\n",
        "# 実際はこのように書くと、「悪用」されてしまいます。この秘密鍵は今日中に使えなくなります。\n",
        "openai.api_key = \"285bb383908f4d769ae7593d1ab2daed\"\n",
        "openai.api_version = \"2023-05-15\""
      ],
      "metadata": {
        "id": "LPTWrd_1EkOj"
      },
      "execution_count": null,
      "outputs": []
    },
    {
      "cell_type": "code",
      "execution_count": null,
      "metadata": {
        "id": "cc06cb2f",
        "colab": {
          "base_uri": "https://localhost:8080/"
        },
        "outputId": "3329bb88-8ea6-4183-d733-9b2c1b8557d3"
      },
      "outputs": [
        {
          "output_type": "stream",
          "name": "stdout",
          "text": [
            "プロ野球選手で、ロサンゼルス・エンゼルスに所属。2018年にメジャーリーグで大ブレイクし、投手としても打者としても活躍。日本人選手として初めてオールスターゲームに出場した。\n"
          ]
        }
      ],
      "source": [
        "# これでもう使えるようになります！まずはテストしてみましょう。このコードも覚える必要はありません。\n",
        "# chatGPTに質問する\n",
        "response = openai.ChatCompletion.create(\n",
        "    engine=\"gpt-35-turbo\",\n",
        "    messages=[\n",
        "        {\"role\": \"user\", \"content\": \"大谷翔平について50文字以内で教えて\"},\n",
        "    ],\n",
        ")\n",
        "# 回答の表示\n",
        "print(response.choices[0][\"message\"][\"content\"].strip())"
      ]
    },
    {
      "cell_type": "markdown",
      "source": [
        "# GPTをより詳細に使ってみましょう。\n",
        "https://learn.microsoft.com/ja-jp/azure/ai-services/openai/chatgpt-quickstart?tabs=command-line%2Cpython&pivots=programming-language-python\n",
        "\n",
        "**このページを参考に、どのような使い方ができるのかを学びます。**"
      ],
      "metadata": {
        "id": "qUeIHF6KFlBl"
      }
    },
    {
      "cell_type": "code",
      "source": [
        "# 先ほどのコードと何が変わっているのか、ぜひ見比べてみてください。\n",
        "response = openai.ChatCompletion.create(\n",
        "    engine=\"gpt-35-turbo\",\n",
        "    messages=[\n",
        "        {\"role\": \"system\", \"content\": \"あなたは気まぐれな猫です。\"},\n",
        "        {\"role\": \"user\", \"content\": \"私の聞いたことに対して、猫っぽく「にゃん」と語尾をつけて返事をしてください。\"},\n",
        "        {\"role\": \"assistant\", \"content\": \"はい、わかりましたにゃん\"},\n",
        "        {\"role\": \"user\", \"content\": \"プログラミングって難しいの？\"}\n",
        "    ]\n",
        ")\n",
        "\n",
        "print(response)\n",
        "print(response['choices'][0]['message']['content'])"
      ],
      "metadata": {
        "colab": {
          "base_uri": "https://localhost:8080/"
        },
        "id": "yWKyeZhvFlyf",
        "outputId": "d99d4f7d-ffc2-4ca7-837a-d84d8b702568"
      },
      "execution_count": null,
      "outputs": [
        {
          "output_type": "stream",
          "name": "stdout",
          "text": [
            "{\n",
            "  \"choices\": [\n",
            "    {\n",
            "      \"finish_reason\": \"stop\",\n",
            "      \"index\": 0,\n",
            "      \"message\": {\n",
            "        \"content\": \"\\u30d7\\u30ed\\u30b0\\u30e9\\u30df\\u30f3\\u30b0\\u306f\\u7c21\\u5358\\u3060\\u306b\\u3083\\u3093\\u3002\\u7df4\\u7fd2\\u3059\\u308c\\u3070\\u3067\\u304d\\u308b\\u3088\\u306b\\u3083\\u3093\\uff01\",\n",
            "        \"role\": \"assistant\"\n",
            "      }\n",
            "    }\n",
            "  ],\n",
            "  \"created\": 1710732709,\n",
            "  \"id\": \"chatcmpl-93y0zusSCJW5A39PRlBLheJ5LISVP\",\n",
            "  \"model\": \"gpt-35-turbo\",\n",
            "  \"object\": \"chat.completion\",\n",
            "  \"system_fingerprint\": \"fp_68a7d165bf\",\n",
            "  \"usage\": {\n",
            "    \"completion_tokens\": 36,\n",
            "    \"prompt_tokens\": 99,\n",
            "    \"total_tokens\": 135\n",
            "  }\n",
            "}\n",
            "プログラミングは簡単だにゃん。練習すればできるよにゃん！\n"
          ]
        }
      ]
    },
    {
      "cell_type": "code",
      "source": [
        "# 先ほどのコードと何が変わっているのか、ぜひ見比べてみてください。\n",
        "response = openai.ChatCompletion.create(\n",
        "    engine=\"gpt-35-turbo\",\n",
        "    messages=[\n",
        "        {\"role\": \"system\", \"content\": \"あなたは気まぐれな猫です。\"},\n",
        "        {\"role\": \"user\", \"content\": \"私の聞いたことに対して、猫っぽく「にゃん」と語尾をつけて返事をしてください。\"},\n",
        "        {\"role\": \"assistant\", \"content\": \"はい、わかりましたにゃん\"},\n",
        "        {\"role\": \"user\", \"content\": \"プログラミングって難しいの？\"}\n",
        "    ],\n",
        "    # temperatureというパラメーターを試してみましょう。\n",
        "    temperature=0\n",
        ")\n",
        "\n",
        "print(response['choices'][0]['message']['content'])"
      ],
      "metadata": {
        "colab": {
          "base_uri": "https://localhost:8080/"
        },
        "id": "GwphEJS0HYee",
        "outputId": "be90afbb-87cd-4c7e-8615-aad5a51a447f"
      },
      "execution_count": null,
      "outputs": [
        {
          "output_type": "stream",
          "name": "stdout",
          "text": [
            "プログラミングはちょっと難しいにゃん。でも、練習すればできるよにゃん！\n"
          ]
        }
      ]
    },
    {
      "cell_type": "markdown",
      "source": [
        "**Temperatureの解説**<br>\n",
        "サンプリング温度は0から1の間で設定されます。例えば、0.8のような高い値を設定すると出力がよりランダムになりますが、0.2のような低い値を設定するとより焦点を絞った決定論的な出力になります。0に設定された場合、モデルはログ確率を使用して特定の閾値に達するまで自動的に温度を上げます。\n",
        "\n",
        "https://platform.openai.com/docs/api-reference/chat/create\n",
        "\n",
        "<br>\n",
        "要するに、<br>\n",
        "*   0に設定：ほぼ毎回同じ回答が返ってくる<br>\n",
        "*   1に設定：出力のランダム性が上がる\n",
        "\n"
      ],
      "metadata": {
        "id": "I9Q6IT21Hsql"
      }
    },
    {
      "cell_type": "markdown",
      "source": [
        "---"
      ],
      "metadata": {
        "id": "xUwVzAfSJ9W7"
      }
    },
    {
      "cell_type": "code",
      "source": [
        "# もう一つパラメーターを追加してみましょう！\n",
        "# 先ほどのコードと何が変わっているのか、ぜひ見比べてみてください。\n",
        "response = openai.ChatCompletion.create(\n",
        "    engine=\"gpt-35-turbo\",\n",
        "    messages=[\n",
        "        {\"role\": \"system\", \"content\": \"あなたは気まぐれな猫です。\"},\n",
        "        {\"role\": \"user\", \"content\": \"私の聞いたことに対して、猫っぽく「にゃん」と語尾をつけて返事をしてください。\"},\n",
        "        {\"role\": \"assistant\", \"content\": \"はい、わかりましたにゃん\"},\n",
        "        {\"role\": \"user\", \"content\": \"プログラミングって難しいの？なんでそう思うかの理由も教えて\"}\n",
        "    ],\n",
        "    temperature=0,\n",
        "    max_tokens=300\n",
        ")\n",
        "\n",
        "print(response['choices'][0]['message']['content'])"
      ],
      "metadata": {
        "colab": {
          "base_uri": "https://localhost:8080/"
        },
        "id": "WJiPeFHmIjJm",
        "outputId": "278f17fb-c1f0-41f7-8ac8-ded46b63287d"
      },
      "execution_count": null,
      "outputs": [
        {
          "output_type": "stream",
          "name": "stdout",
          "text": [
            "プログラミングは、初めての人にとっては少し難しいにゃん。理由は、新しい言語やコードの書き方を覚えるのが大変だからにゃん。また、論理的思考や問題解決能力が必要にゃん。でも、練習すれば上手になれるにゃん！\n"
          ]
        }
      ]
    },
    {
      "cell_type": "markdown",
      "source": [
        "**Max_token**\n",
        "\n",
        "チャット完了で生成できるトークンの最大数について。\n",
        "\n",
        "入力トークンと生成されたトークンの合計長さは、モデルのコンテキスト長によって制限されます。<br>\n",
        "要するに、生成される最大の長さを指定することができます。"
      ],
      "metadata": {
        "id": "MGm40HhCJgSn"
      }
    },
    {
      "cell_type": "markdown",
      "source": [
        "ほかにも様々なパラメーターがあります！\n",
        "ぜひ調べてみてください。\n",
        "\n",
        "https://platform.openai.com/docs/api-reference/chat/create\n",
        "\n",
        "---"
      ],
      "metadata": {
        "id": "-Egky6zLJxre"
      }
    },
    {
      "cell_type": "markdown",
      "source": [
        "# プロンプトエンジニアリングに挑戦してみよう。"
      ],
      "metadata": {
        "id": "s9v4YV3B4_3F"
      }
    },
    {
      "cell_type": "code",
      "source": [
        "# 下記の文章があるとして、GPTにどう処理をしてほしいのかを伝えてみましょう。\n",
        "text = \"GPT(Generative Pretrained Transformer)とは、米国サンフランシスコの新興人工知能研究所であるOpenAIが開発し、人間のように自然な文章を生成することができる言語モデルです。1億1700万個のパラメータを持つ初期モデルのGPT-1が2018年6月にリリースされて以来、GPT-2やGPT-3、GPT-4などの複数バージョンが発表されています。Generative Pre-trained Transformer（GPT）は、OpenAIによる言語モデルのファミリーである。通常、大規模なテキストデータのコーパスで訓練され、人間のようなテキストを生成する。Transformerアーキテクチャのいくつかのブロックを使用して構築される。テキスト生成、翻訳、文書分類など様々な自然言語処理のタスクに合わせてファインチューニングすることができる。名称に含まれるpre-trained（事前訓練）とは、大量のテキストコーパスでの最初の訓練プロセスを指し、モデルが節の次の単語を予測することを学習する。これにより、タスク固有のデータの限られた量のダウンストリームタスクでモデルが適切に動作するための強固な基盤が提供される。\"\n",
        "print(text)"
      ],
      "metadata": {
        "colab": {
          "base_uri": "https://localhost:8080/"
        },
        "id": "BMoEb7WtKaYj",
        "outputId": "19cbc846-227c-49f5-8a25-927ea3ba12ae"
      },
      "execution_count": null,
      "outputs": [
        {
          "output_type": "stream",
          "name": "stdout",
          "text": [
            "GPT(Generative Pretrained Transformer)とは、米国サンフランシスコの新興人工知能研究所であるOpenAIが開発し、人間のように自然な文章を生成することができる言語モデルです。1億1700万個のパラメータを持つ初期モデルのGPT-1が2018年6月にリリースされて以来、GPT-2やGPT-3、GPT-4などの複数バージョンが発表されています。Generative Pre-trained Transformer（GPT）は、OpenAIによる言語モデルのファミリーである。通常、大規模なテキストデータのコーパスで訓練され、人間のようなテキストを生成する。Transformerアーキテクチャのいくつかのブロックを使用して構築される。テキスト生成、翻訳、文書分類など様々な自然言語処理のタスクに合わせてファインチューニングすることができる。名称に含まれるpre-trained（事前訓練）とは、大量のテキストコーパスでの最初の訓練プロセスを指し、モデルが節の次の単語を予測することを学習する。これにより、タスク固有のデータの限られた量のダウンストリームタスクでモデルが適切に動作するための強固な基盤が提供される。\n"
          ]
        }
      ]
    },
    {
      "cell_type": "code",
      "source": [
        "# このブロックともう一つ下のブロックを使ってGPTとやり取りしてみましょう。\n",
        "\n",
        "# def～というのは、コードを使いまわしたりする際に使う「関数化」を表しています。\n",
        "# ここでは、「kaiwa」という関数に、roleとtextという「変数」を渡して処理をするという設定をしています。\n",
        "\n",
        "# イメージは、\n",
        "# def keisan(x,y):\n",
        "#   z = x + y\n",
        "#   return z\n",
        "\n",
        "# print(keisan(1,2))\n",
        "# 3　と表示される\n",
        "\n",
        "\n",
        "def kaiwa(role,text):\n",
        "  # chatGPTに質問する\n",
        "  response = openai.ChatCompletion.create(\n",
        "      engine=\"gpt-4\",\n",
        "      messages=[\n",
        "          {\"role\": \"assistant\", \"content\": role},\n",
        "          {\"role\": \"user\", \"content\": text},\n",
        "      ],\n",
        "  )\n",
        "  # 回答の表示\n",
        "  res = response.choices[0][\"message\"][\"content\"].strip()\n",
        "  return res"
      ],
      "metadata": {
        "id": "ncMVAJZ-4_UJ"
      },
      "execution_count": null,
      "outputs": []
    },
    {
      "cell_type": "code",
      "source": [
        "# role = \"この中に役割とやってほしいことを定義してみましょう\"\n",
        "# 例：\n",
        "role = \"中身を箇条書きで3点にまとめてください\""
      ],
      "metadata": {
        "id": "mTCJBDsA4_CH"
      },
      "execution_count": null,
      "outputs": []
    },
    {
      "cell_type": "code",
      "source": [
        "res = kaiwa(role, text)\n",
        "print(res)"
      ],
      "metadata": {
        "colab": {
          "base_uri": "https://localhost:8080/"
        },
        "id": "vsye1srv5hWP",
        "outputId": "02d589be-730f-4209-b62b-a64e05902c37"
      },
      "execution_count": null,
      "outputs": [
        {
          "output_type": "stream",
          "name": "stdout",
          "text": [
            "- GPTはOpenAIによって開発された言語モデルで、自然な文章生成が可能。\n",
            "- 大規模なテキストコーパスで訓練され、様々な自然言語処理タスクに対応。\n",
            "- 「Pretrained」は事前訓練を意味し、大量のデータで文の次の単語を予測する学習が行われる。\n"
          ]
        }
      ]
    },
    {
      "cell_type": "markdown",
      "source": [
        "課題１：Textの中身を、非IT系のアメリカ人に説明したいシーン。"
      ],
      "metadata": {
        "id": "GvF4rvFHNJKw"
      }
    },
    {
      "cell_type": "code",
      "source": [
        "role = \"プロンプトはこちらへ\"\n",
        "res = kaiwa(role, text)\n",
        "print(res)"
      ],
      "metadata": {
        "id": "OUQo6n2ANUrq"
      },
      "execution_count": null,
      "outputs": []
    },
    {
      "cell_type": "markdown",
      "source": [
        "課題２：Textの中身を、小学一年生にもわかるように工夫してみましょう。"
      ],
      "metadata": {
        "id": "MZ4RKa7JNltv"
      }
    },
    {
      "cell_type": "code",
      "source": [
        "# ヒント：小学一年生はどういうレベルの文章なら理解ができるでしょうか。\n",
        "role = \"プロンプトはこちらへ\"\n",
        "res = kaiwa(role, text)\n",
        "print(res)"
      ],
      "metadata": {
        "id": "M2Y7why-NgR1"
      },
      "execution_count": null,
      "outputs": []
    },
    {
      "cell_type": "markdown",
      "source": [
        "課題３：Textの中身を、100文字程度に。毎回答えが変わらないように制御してみましょう。"
      ],
      "metadata": {
        "id": "c95KUdvxNbBI"
      }
    },
    {
      "cell_type": "code",
      "source": [
        "# ヒント：Temperatureを活用してみよう。関数を書き換える必要があるかもしれません。\n",
        "role = \"プロンプトはこちらへ\"\n",
        "res = kaiwa(role, text)\n",
        "print(res)"
      ],
      "metadata": {
        "id": "ZpJlUR5QNswC"
      },
      "execution_count": null,
      "outputs": []
    },
    {
      "cell_type": "markdown",
      "source": [
        "いかがだったでしょうか。\n",
        "\n",
        "本日は初歩の初歩ではありますが、思ったよりも簡単？と思っていただけたのではないかと思います。<br>\n",
        "GPTをビジネスに生かす、プロダクトに組み込むイメージが少しでも沸いていれば嬉しく存じます。\n",
        "\n",
        "DX並走や、実際にプロダクトを作ってみたい、WSを自社向けにやってほしいなど、なんでもお気軽にお問い合わせください。"
      ],
      "metadata": {
        "id": "kfb-tw81Nw_M"
      }
    }
  ]
}